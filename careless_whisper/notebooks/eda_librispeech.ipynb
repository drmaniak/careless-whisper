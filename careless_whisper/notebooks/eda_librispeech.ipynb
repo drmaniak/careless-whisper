{
 "cells": [
  {
   "cell_type": "markdown",
   "id": "dd63406b-ed1f-424e-8694-421efeb95ab3",
   "metadata": {},
   "source": [
    "# Imports"
   ]
  },
  {
   "cell_type": "code",
   "execution_count": 1,
   "id": "e657eea6-b80c-41a1-b710-39bc9519fd46",
   "metadata": {},
   "outputs": [],
   "source": [
    "import os\n",
    "from pathlib import Path"
   ]
  },
  {
   "cell_type": "code",
   "execution_count": 2,
   "id": "c033218b-c9a2-47c3-8939-a59596fe8018",
   "metadata": {},
   "outputs": [],
   "source": [
    "import librosa\n",
    "import jiwer"
   ]
  },
  {
   "cell_type": "code",
   "execution_count": 3,
   "id": "32c9c415-169f-4b31-8569-0bf9da0fbe1d",
   "metadata": {},
   "outputs": [],
   "source": [
    "import numpy as np\n",
    "import pandas as pd\n",
    "from tqdm import tqdm"
   ]
  },
  {
   "cell_type": "code",
   "execution_count": 4,
   "id": "6e2d7316-430e-4d37-9ee1-69bb937100de",
   "metadata": {},
   "outputs": [],
   "source": [
    "import torch\n",
    "import torch.nn as nn\n",
    "from torch.utils.data import Dataset, DataLoader"
   ]
  },
  {
   "cell_type": "code",
   "execution_count": 5,
   "id": "e944e580-baee-4440-a721-514a71b0619b",
   "metadata": {},
   "outputs": [],
   "source": [
    "import torchaudio"
   ]
  },
  {
   "cell_type": "code",
   "execution_count": 6,
   "id": "ab9dfd06-ca08-44e4-bb17-39c613ee14be",
   "metadata": {},
   "outputs": [],
   "source": [
    "from transformers import  WhisperProcessor, WhisperForConditionalGeneration"
   ]
  },
  {
   "cell_type": "markdown",
   "id": "a3cb0832-8396-4774-adeb-91ea5c093d6e",
   "metadata": {},
   "source": [
    "# Project Variables"
   ]
  },
  {
   "cell_type": "code",
   "execution_count": 7,
   "id": "9af36cd0-0c22-4802-9a8b-cc04f49d205b",
   "metadata": {},
   "outputs": [
    {
     "data": {
      "text/plain": [
       "'cpu'"
      ]
     },
     "execution_count": 7,
     "metadata": {},
     "output_type": "execute_result"
    }
   ],
   "source": [
    "DEVICE = \"cuda\" if torch.cuda.is_available() else \"cpu\"\n",
    "DEVICE"
   ]
  },
  {
   "cell_type": "markdown",
   "id": "97e83ffd-039f-42db-8138-0167020afa75",
   "metadata": {},
   "source": [
    "# Load the Librispeech dataset"
   ]
  },
  {
   "cell_type": "code",
   "execution_count": 8,
   "id": "b227c13d-4333-4a21-88ed-bfc7ee66d2e9",
   "metadata": {},
   "outputs": [],
   "source": [
    "processor = WhisperProcessor.from_pretrained(\"openai/whisper-tiny.en\")\n",
    "model = WhisperForConditionalGeneration.from_pretrained(\"openai/whisper-tiny.en\")"
   ]
  },
  {
   "cell_type": "code",
   "execution_count": 9,
   "id": "f8adb16c-bbfe-4474-811f-fd6666885299",
   "metadata": {},
   "outputs": [],
   "source": [
    "class LibriSpeech(Dataset):\n",
    "    def __init__(self, split=\"test-clean\"):\n",
    "        self.dataset = torchaudio.datasets.LIBRISPEECH(\n",
    "            root=Path(\"~/.cache/torch_datasets\").expanduser(),\n",
    "            url=\"test-clean\",\n",
    "            download=True\n",
    "            )\n",
    "        self.device = DEVICE\n",
    "        self.processor = WhisperProcessor.from_pretrained(\"openai/whisper-tiny.en\")\n",
    "        self.tokenizer = processor.tokenizer\n",
    "        \n",
    "\n",
    "    def __len__(self):\n",
    "        return len(self.dataset)\n",
    "\n",
    "    def __getitem__(self, idx):\n",
    "        audio, sample_rate, text, _, _, _ = self.dataset[idx]\n",
    "        assert sample_rate == 16000 \n",
    "        audio = audio.flatten()\n",
    "        audio_features = self.processor(audio, sampling_rate=sample_rate, truncation=True, padding=\"max_length\", return_tensors=\"pt\").input_features.squeeze(0)\n",
    "        text_features = self.tokenizer(text, padding=\"max_length\", truncation=True, return_tensors=\"pt\", max_length=448)\n",
    "        text_tokens = text_features.input_ids.squeeze(0)\n",
    "        attention_mask = text_features.attention_mask.squeeze(0)\n",
    "        return audio_features, text, text_tokens, attention_mask "
   ]
  },
  {
   "cell_type": "code",
   "execution_count": 10,
   "id": "acbffd2c-eace-4048-93ff-6609369bb2be",
   "metadata": {},
   "outputs": [],
   "source": [
    "dataset = LibriSpeech()\n",
    "loader = DataLoader(dataset, batch_size=8)"
   ]
  },
  {
   "cell_type": "code",
   "execution_count": 11,
   "id": "0d86ae86-99fb-4656-abe7-7124a6f46cbc",
   "metadata": {},
   "outputs": [
    {
     "name": "stdout",
     "output_type": "stream",
     "text": [
      "torch.Size([8, 80, 3000])\n",
      "('HE HOPED THERE WOULD BE STEW FOR DINNER TURNIPS AND CARROTS AND BRUISED POTATOES AND FAT MUTTON PIECES TO BE LADLED OUT IN THICK PEPPERED FLOUR FATTENED SAUCE', 'STUFF IT INTO YOU HIS BELLY COUNSELLED HIM', 'AFTER EARLY NIGHTFALL THE YELLOW LAMPS WOULD LIGHT UP HERE AND THERE THE SQUALID QUARTER OF THE BROTHELS', 'HELLO BERTIE ANY GOOD IN YOUR MIND', 'NUMBER TEN FRESH NELLY IS WAITING ON YOU GOOD NIGHT HUSBAND', \"THE MUSIC CAME NEARER AND HE RECALLED THE WORDS THE WORDS OF SHELLEY'S FRAGMENT UPON THE MOON WANDERING COMPANIONLESS PALE FOR WEARINESS\", 'THE DULL LIGHT FELL MORE FAINTLY UPON THE PAGE WHEREON ANOTHER EQUATION BEGAN TO UNFOLD ITSELF SLOWLY AND TO SPREAD ABROAD ITS WIDENING TAIL', 'A COLD LUCID INDIFFERENCE REIGNED IN HIS SOUL')\n",
      "torch.Size([8, 448])\n",
      "torch.Size([8, 448])\n"
     ]
    }
   ],
   "source": [
    "print(next(iter(loader))[0].shape)\n",
    "print(next(iter(loader))[1])\n",
    "print(next(iter(loader))[2].shape)\n",
    "print(next(iter(loader))[3].shape)"
   ]
  },
  {
   "cell_type": "markdown",
   "id": "0c504512-b01b-4602-9f90-ac8b56ace92a",
   "metadata": {},
   "source": [
    "# Evaluate the model on data before training"
   ]
  },
  {
   "cell_type": "code",
   "execution_count": 12,
   "id": "ac01fbfd-eb70-4432-b6f1-5ba985dc40dd",
   "metadata": {},
   "outputs": [],
   "source": [
    "model.eval()\n",
    "audio_inputs, text, text_tokens, attention_mask = next(iter(loader))\n",
    "predicted_ids = model.generate(audio_inputs, attention_mask=attention_mask)"
   ]
  },
  {
   "cell_type": "code",
   "execution_count": 13,
   "id": "2f043510-7fb9-4250-8304-02c1db966eca",
   "metadata": {},
   "outputs": [
    {
     "data": {
      "text/plain": [
       "[' He hoped there would be stew for dinner, turnips and carrots and bruised potatoes and fat-mutton pieces to be ladled out and thick, peppered flower-fattened sauce.',\n",
       " ' Stuffered into you, his belly, counseled him.',\n",
       " ' After early nightfall, the yellow lamps would light up here and there, the squalid quarter of the brothels.',\n",
       " ' Hello Bertie, any good in your mind?',\n",
       " ' Number 10, fresh Nelly is waiting on you. Good night, husband.',\n",
       " \" The music came nearer and he recalled the words. The words of Shelley's fragment upon the moon wandering companionless, pale for weariness.\",\n",
       " ' The dull light fell more faintly upon the page where on another equation began to unfold itself slowly and to spread abroad its widening tale.',\n",
       " ' a cold, lucid indifference rained in his soul.']"
      ]
     },
     "execution_count": 13,
     "metadata": {},
     "output_type": "execute_result"
    }
   ],
   "source": [
    "text_pred = processor.batch_decode(predicted_ids, skip_special_tokens=True)\n",
    "text_pred"
   ]
  },
  {
   "cell_type": "code",
   "execution_count": 14,
   "id": "6c787a58-4414-4dc6-972d-b0b06ed1f9a0",
   "metadata": {},
   "outputs": [],
   "source": [
    "text = [processor.tokenizer.basic_normalize(t) for t in text]"
   ]
  },
  {
   "cell_type": "code",
   "execution_count": 15,
   "id": "1213f8ce-83cf-452c-8dd8-ecd3f1661a57",
   "metadata": {},
   "outputs": [
    {
     "data": {
      "text/html": [
       "<div>\n",
       "<style scoped>\n",
       "    .dataframe tbody tr th:only-of-type {\n",
       "        vertical-align: middle;\n",
       "    }\n",
       "\n",
       "    .dataframe tbody tr th {\n",
       "        vertical-align: top;\n",
       "    }\n",
       "\n",
       "    .dataframe thead th {\n",
       "        text-align: right;\n",
       "    }\n",
       "</style>\n",
       "<table border=\"1\" class=\"dataframe\">\n",
       "  <thead>\n",
       "    <tr style=\"text-align: right;\">\n",
       "      <th></th>\n",
       "      <th>original_text</th>\n",
       "      <th>predicted_text</th>\n",
       "    </tr>\n",
       "  </thead>\n",
       "  <tbody>\n",
       "    <tr>\n",
       "      <th>0</th>\n",
       "      <td>he hoped there would be stew for dinner turnip...</td>\n",
       "      <td>He hoped there would be stew for dinner, turn...</td>\n",
       "    </tr>\n",
       "    <tr>\n",
       "      <th>1</th>\n",
       "      <td>stuff it into you his belly counselled him</td>\n",
       "      <td>Stuffered into you, his belly, counseled him.</td>\n",
       "    </tr>\n",
       "    <tr>\n",
       "      <th>2</th>\n",
       "      <td>after early nightfall the yellow lamps would l...</td>\n",
       "      <td>After early nightfall, the yellow lamps would...</td>\n",
       "    </tr>\n",
       "    <tr>\n",
       "      <th>3</th>\n",
       "      <td>hello bertie any good in your mind</td>\n",
       "      <td>Hello Bertie, any good in your mind?</td>\n",
       "    </tr>\n",
       "    <tr>\n",
       "      <th>4</th>\n",
       "      <td>number ten fresh nelly is waiting on you good ...</td>\n",
       "      <td>Number 10, fresh Nelly is waiting on you. Goo...</td>\n",
       "    </tr>\n",
       "    <tr>\n",
       "      <th>5</th>\n",
       "      <td>the music came nearer and he recalled the word...</td>\n",
       "      <td>The music came nearer and he recalled the wor...</td>\n",
       "    </tr>\n",
       "    <tr>\n",
       "      <th>6</th>\n",
       "      <td>the dull light fell more faintly upon the page...</td>\n",
       "      <td>The dull light fell more faintly upon the pag...</td>\n",
       "    </tr>\n",
       "    <tr>\n",
       "      <th>7</th>\n",
       "      <td>a cold lucid indifference reigned in his soul</td>\n",
       "      <td>a cold, lucid indifference rained in his soul.</td>\n",
       "    </tr>\n",
       "  </tbody>\n",
       "</table>\n",
       "</div>"
      ],
      "text/plain": [
       "                                       original_text  \\\n",
       "0  he hoped there would be stew for dinner turnip...   \n",
       "1         stuff it into you his belly counselled him   \n",
       "2  after early nightfall the yellow lamps would l...   \n",
       "3                 hello bertie any good in your mind   \n",
       "4  number ten fresh nelly is waiting on you good ...   \n",
       "5  the music came nearer and he recalled the word...   \n",
       "6  the dull light fell more faintly upon the page...   \n",
       "7      a cold lucid indifference reigned in his soul   \n",
       "\n",
       "                                      predicted_text  \n",
       "0   He hoped there would be stew for dinner, turn...  \n",
       "1      Stuffered into you, his belly, counseled him.  \n",
       "2   After early nightfall, the yellow lamps would...  \n",
       "3               Hello Bertie, any good in your mind?  \n",
       "4   Number 10, fresh Nelly is waiting on you. Goo...  \n",
       "5   The music came nearer and he recalled the wor...  \n",
       "6   The dull light fell more faintly upon the pag...  \n",
       "7     a cold, lucid indifference rained in his soul.  "
      ]
     },
     "execution_count": 15,
     "metadata": {},
     "output_type": "execute_result"
    }
   ],
   "source": [
    "df = pd.DataFrame({\"original_text\": text, \"predicted_text\": text_pred})\n",
    "df"
   ]
  },
  {
   "cell_type": "code",
   "execution_count": 16,
   "id": "60f23686-aa0f-47e7-ac33-b50052336869",
   "metadata": {},
   "outputs": [
    {
     "name": "stdout",
     "output_type": "stream",
     "text": [
      "WER before training: 33.858%\n"
     ]
    }
   ],
   "source": [
    "wer = jiwer.wer(df[\"original_text\"].tolist(), df[\"predicted_text\"].tolist())\n",
    "print(f\"WER before training: {wer * 100:.3f}%\")"
   ]
  },
  {
   "cell_type": "markdown",
   "id": "5a8d0255-9254-4592-a95e-2c69ba7bb559",
   "metadata": {},
   "source": [
    "# Train the model to overfit a single batch"
   ]
  },
  {
   "cell_type": "code",
   "execution_count": 17,
   "id": "de264601-dbdc-4304-a4b5-d9beb4c9ee47",
   "metadata": {},
   "outputs": [],
   "source": [
    "model.train()\n",
    "optimizer = torch.optim.AdamW(model.parameters(), lr=1e-5)"
   ]
  },
  {
   "cell_type": "code",
   "execution_count": 19,
   "id": "574feecc-1039-4408-84e7-adaaec36563f",
   "metadata": {},
   "outputs": [],
   "source": [
    "num_steps = 10"
   ]
  },
  {
   "cell_type": "code",
   "execution_count": 20,
   "id": "06f8f9fa-35c5-4bb9-adba-6a1a9c63b4c4",
   "metadata": {},
   "outputs": [],
   "source": [
    "num_batches = len(loader.dataset) // loader.batch_size\n",
    "num_batches = 1"
   ]
  },
  {
   "cell_type": "code",
   "execution_count": 21,
   "id": "63f608fc-b2fe-4d65-a8c5-190cc238ecf6",
   "metadata": {},
   "outputs": [
    {
     "name": "stderr",
     "output_type": "stream",
     "text": [
      "Passing a tuple of `past_key_values` is deprecated and will be removed in Transformers v4.43.0. You should pass an instance of `EncoderDecoderCache` instead, e.g. `past_key_values=EncoderDecoderCache.from_legacy_cache(past_key_values)`.\n",
      "  0%|                                                                                                                                       | 0/327 [00:13<?, ?it/s]\n"
     ]
    },
    {
     "name": "stdout",
     "output_type": "stream",
     "text": [
      "Step 1. Batch 1, Loss: 3.3286\n"
     ]
    },
    {
     "name": "stderr",
     "output_type": "stream",
     "text": [
      "  0%|                                                                                                                                       | 0/327 [00:13<?, ?it/s]\n"
     ]
    },
    {
     "name": "stdout",
     "output_type": "stream",
     "text": [
      "Step 2. Batch 1, Loss: 0.6258\n"
     ]
    },
    {
     "name": "stderr",
     "output_type": "stream",
     "text": [
      "  0%|                                                                                                                                       | 0/327 [00:14<?, ?it/s]\n"
     ]
    },
    {
     "name": "stdout",
     "output_type": "stream",
     "text": [
      "Step 3. Batch 1, Loss: 0.3406\n"
     ]
    },
    {
     "name": "stderr",
     "output_type": "stream",
     "text": [
      "  0%|                                                                                                                                       | 0/327 [00:14<?, ?it/s]\n"
     ]
    },
    {
     "name": "stdout",
     "output_type": "stream",
     "text": [
      "Step 4. Batch 1, Loss: 0.2338\n"
     ]
    },
    {
     "name": "stderr",
     "output_type": "stream",
     "text": [
      "  0%|                                                                                                                                       | 0/327 [00:14<?, ?it/s]\n"
     ]
    },
    {
     "name": "stdout",
     "output_type": "stream",
     "text": [
      "Step 5. Batch 1, Loss: 0.1845\n"
     ]
    },
    {
     "name": "stderr",
     "output_type": "stream",
     "text": [
      "  0%|                                                                                                                                       | 0/327 [00:14<?, ?it/s]\n"
     ]
    },
    {
     "name": "stdout",
     "output_type": "stream",
     "text": [
      "Step 6. Batch 1, Loss: 0.1595\n"
     ]
    },
    {
     "name": "stderr",
     "output_type": "stream",
     "text": [
      "  0%|                                                                                                                                       | 0/327 [00:14<?, ?it/s]\n"
     ]
    },
    {
     "name": "stdout",
     "output_type": "stream",
     "text": [
      "Step 7. Batch 1, Loss: 0.1455\n"
     ]
    },
    {
     "name": "stderr",
     "output_type": "stream",
     "text": [
      "  0%|                                                                                                                                       | 0/327 [00:15<?, ?it/s]\n"
     ]
    },
    {
     "name": "stdout",
     "output_type": "stream",
     "text": [
      "Step 8. Batch 1, Loss: 0.1368\n"
     ]
    },
    {
     "name": "stderr",
     "output_type": "stream",
     "text": [
      "  0%|                                                                                                                                       | 0/327 [00:15<?, ?it/s]\n"
     ]
    },
    {
     "name": "stdout",
     "output_type": "stream",
     "text": [
      "Step 9. Batch 1, Loss: 0.1306\n"
     ]
    },
    {
     "name": "stderr",
     "output_type": "stream",
     "text": [
      "  0%|                                                                                                                                       | 0/327 [00:15<?, ?it/s]"
     ]
    },
    {
     "name": "stdout",
     "output_type": "stream",
     "text": [
      "Step 10. Batch 1, Loss: 0.1259\n"
     ]
    },
    {
     "name": "stderr",
     "output_type": "stream",
     "text": [
      "\n"
     ]
    }
   ],
   "source": [
    "for step in range(num_steps):\n",
    "    for i, batch_data in enumerate(tqdm(loader, total=num_batches)):\n",
    "        audio_input, text, text_tokens, attention_mask = batch_data\n",
    "\n",
    "        optimizer.zero_grad()\n",
    "        \n",
    "        outputs = model(audio_input, labels=text_tokens, attention_mask=attention_mask)\n",
    "        \n",
    "        loss = outputs.loss\n",
    "    \n",
    "        loss.backward()\n",
    "        optimizer.step()\n",
    "    \n",
    "        print(f\"Step {step+1}. Batch {i+1}, Loss: {loss.item():.4f}\")\n",
    "        break"
   ]
  },
  {
   "cell_type": "markdown",
   "id": "63a784be-520b-4205-8a95-2297c1eab087",
   "metadata": {},
   "source": [
    "# Eval model outputs after training"
   ]
  },
  {
   "cell_type": "code",
   "execution_count": 22,
   "id": "a9778699-1bf7-4c30-b0fb-3a036c4bfef9",
   "metadata": {},
   "outputs": [],
   "source": [
    "model.eval()\n",
    "audio_inputs, text, text_tokens, attention_mask = next(iter(loader))\n",
    "predicted_ids = model.generate(audio_inputs, attention_mask=attention_mask)"
   ]
  },
  {
   "cell_type": "code",
   "execution_count": 23,
   "id": "279c41db-6f4d-4dad-bf1f-17e92d8ae28d",
   "metadata": {},
   "outputs": [
    {
     "data": {
      "text/plain": [
       "[' He hoped there would be stew for dinner, turnips and carrots and bruised potatoes and fat-mutton pieces to be ladled out and thick peppered flower-fat and sauce.',\n",
       " ' stuff it into you, his belly counseled him.',\n",
       " ' After early nightfall, the yellow lamps would light up here and there, the squalid quarter of the brothels.',\n",
       " ' Hello, Bertie. Any good in your mind?',\n",
       " ' Number 10, fresh Nelly is waiting on you. Good night, husband.',\n",
       " \" The music came nearer and he recalled the words. The words of Shelley's fragment upon the moon wandering companionless pale for weariness.\",\n",
       " ' The dull light fell more faintly upon the page where on another equation began to unfold itself slowly and to spread abroad its widening tail.',\n",
       " ' a cold, lucid indifference rained in his soul.']"
      ]
     },
     "execution_count": 23,
     "metadata": {},
     "output_type": "execute_result"
    }
   ],
   "source": [
    "text_pred = processor.batch_decode(predicted_ids, skip_special_tokens=True)\n",
    "text_pred"
   ]
  },
  {
   "cell_type": "code",
   "execution_count": 26,
   "id": "fbf6cce7-ba1d-4841-ab02-e97837c28276",
   "metadata": {},
   "outputs": [],
   "source": [
    "text_clean = [processor.tokenizer.basic_normalize(t) for t in text]\n",
    "text_pred_clean = [processor.tokenizer.normalize(t) for t in text_pred]"
   ]
  },
  {
   "cell_type": "code",
   "execution_count": 29,
   "id": "e5e97782-e895-45b1-92fb-af6686bf9e48",
   "metadata": {},
   "outputs": [
    {
     "data": {
      "text/html": [
       "<div>\n",
       "<style scoped>\n",
       "    .dataframe tbody tr th:only-of-type {\n",
       "        vertical-align: middle;\n",
       "    }\n",
       "\n",
       "    .dataframe tbody tr th {\n",
       "        vertical-align: top;\n",
       "    }\n",
       "\n",
       "    .dataframe thead th {\n",
       "        text-align: right;\n",
       "    }\n",
       "</style>\n",
       "<table border=\"1\" class=\"dataframe\">\n",
       "  <thead>\n",
       "    <tr style=\"text-align: right;\">\n",
       "      <th></th>\n",
       "      <th>original_text</th>\n",
       "      <th>predicted_text</th>\n",
       "    </tr>\n",
       "  </thead>\n",
       "  <tbody>\n",
       "    <tr>\n",
       "      <th>0</th>\n",
       "      <td>he hoped there would be stew for dinner turnip...</td>\n",
       "      <td>he hoped there would be stew for dinner turnip...</td>\n",
       "    </tr>\n",
       "    <tr>\n",
       "      <th>1</th>\n",
       "      <td>stuff it into you his belly counselled him</td>\n",
       "      <td>stuff it into you his belly counseled him</td>\n",
       "    </tr>\n",
       "    <tr>\n",
       "      <th>2</th>\n",
       "      <td>after early nightfall the yellow lamps would l...</td>\n",
       "      <td>after early nightfall the yellow lamps would l...</td>\n",
       "    </tr>\n",
       "    <tr>\n",
       "      <th>3</th>\n",
       "      <td>hello bertie any good in your mind</td>\n",
       "      <td>hello bertie any good in your mind</td>\n",
       "    </tr>\n",
       "    <tr>\n",
       "      <th>4</th>\n",
       "      <td>number ten fresh nelly is waiting on you good ...</td>\n",
       "      <td>number 10 fresh nelly is waiting on you good n...</td>\n",
       "    </tr>\n",
       "    <tr>\n",
       "      <th>5</th>\n",
       "      <td>the music came nearer and he recalled the word...</td>\n",
       "      <td>the music came nearer and he recalled the word...</td>\n",
       "    </tr>\n",
       "    <tr>\n",
       "      <th>6</th>\n",
       "      <td>the dull light fell more faintly upon the page...</td>\n",
       "      <td>the dull light fell more faintly upon the page...</td>\n",
       "    </tr>\n",
       "    <tr>\n",
       "      <th>7</th>\n",
       "      <td>a cold lucid indifference reigned in his soul</td>\n",
       "      <td>a cold lucid indifference rained in his soul</td>\n",
       "    </tr>\n",
       "  </tbody>\n",
       "</table>\n",
       "</div>"
      ],
      "text/plain": [
       "                                       original_text  \\\n",
       "0  he hoped there would be stew for dinner turnip...   \n",
       "1         stuff it into you his belly counselled him   \n",
       "2  after early nightfall the yellow lamps would l...   \n",
       "3                 hello bertie any good in your mind   \n",
       "4  number ten fresh nelly is waiting on you good ...   \n",
       "5  the music came nearer and he recalled the word...   \n",
       "6  the dull light fell more faintly upon the page...   \n",
       "7      a cold lucid indifference reigned in his soul   \n",
       "\n",
       "                                      predicted_text  \n",
       "0  he hoped there would be stew for dinner turnip...  \n",
       "1          stuff it into you his belly counseled him  \n",
       "2  after early nightfall the yellow lamps would l...  \n",
       "3                 hello bertie any good in your mind  \n",
       "4  number 10 fresh nelly is waiting on you good n...  \n",
       "5  the music came nearer and he recalled the word...  \n",
       "6  the dull light fell more faintly upon the page...  \n",
       "7       a cold lucid indifference rained in his soul  "
      ]
     },
     "execution_count": 29,
     "metadata": {},
     "output_type": "execute_result"
    }
   ],
   "source": [
    "df = pd.DataFrame({\"original_text\": text_clean, \"predicted_text\": text_pred_clean})\n",
    "df"
   ]
  },
  {
   "cell_type": "code",
   "execution_count": 30,
   "id": "972f680e-c9d2-4cff-9d84-9a85ed51d65d",
   "metadata": {},
   "outputs": [
    {
     "name": "stdout",
     "output_type": "stream",
     "text": [
      "WER before training: 7.874%\n"
     ]
    }
   ],
   "source": [
    "wer = jiwer.wer(df[\"original_text\"].tolist(), df[\"predicted_text\"].tolist())\n",
    "print(f\"WER before training: {wer * 100:.3f}%\")"
   ]
  },
  {
   "cell_type": "code",
   "execution_count": 70,
   "id": "d616fb45-7f66-441d-bb01-c505cef1e157",
   "metadata": {},
   "outputs": [
    {
     "data": {
      "text/plain": [
       "['he hoped there would be stew for dinner turnips and carrots and bruised potatoes and fat mutton pieces to be ladled out and thick peppered flower fat and sauce',\n",
       " 'stuff it into you his belly counseled him',\n",
       " 'after early nightfall the yellow lamps would light up here and there the squalid quarter of the brothels',\n",
       " 'hello bertie any good in your mind',\n",
       " 'number 10 fresh nelly is waiting on you good night husband',\n",
       " 'the music came nearer and he recalled the words the words of shelley is fragment upon the moon wandering companionless pale for weariness',\n",
       " 'the dull light fell more faintly upon the page where on another equation began to unfold itself slowly and to spread abroad its widening tail',\n",
       " 'a cold lucid indifference rained in his soul']"
      ]
     },
     "execution_count": 70,
     "metadata": {},
     "output_type": "execute_result"
    }
   ],
   "source": [
    "df.predicted_text.tolist()"
   ]
  },
  {
   "cell_type": "code",
   "execution_count": null,
   "id": "366124f8-739a-44bc-ab65-352ad208884d",
   "metadata": {},
   "outputs": [],
   "source": []
  },
  {
   "cell_type": "code",
   "execution_count": 32,
   "id": "49e84a79-e40c-4238-9473-c2d27a07134b",
   "metadata": {},
   "outputs": [
    {
     "data": {
      "text/plain": [
       "tensor([[  679, 10719,   612,   561,   307, 20798,   329,  8073,    11,  1210,\n",
       "          2419,   290, 34397,   290, 44379, 18821,   290,  3735,    12,    76,\n",
       "         21115,  5207,   284,   307,  9717,   992,   503,   290,  6546, 49038,\n",
       "          1068, 15061,    12, 17359,   290, 10746,    13],\n",
       "        [ 3404,   340,   656,   345,    11,   465, 19921,  7739,   276,   683,\n",
       "            13, 50256, 50256, 50256, 50256, 50256, 50256, 50256, 50256, 50256,\n",
       "         50256, 50256, 50256, 50256, 50256, 50256, 50256, 50256, 50256, 50256,\n",
       "         50256, 50256, 50256, 50256, 50256, 50256, 50256],\n",
       "        [ 2293,  1903,  1755,  7207,    11,   262,  7872, 32209,   561,  1657,\n",
       "           510,   994,   290,   612,    11,   262,  2809, 10751,  3860,   286,\n",
       "           262,  1379,  1169,  7278,    13, 50256, 50256, 50256, 50256, 50256,\n",
       "         50256, 50256, 50256, 50256, 50256, 50256, 50256],\n",
       "        [18435,    11, 22108,   494,    13,  4377,   922,   287,   534,  2000,\n",
       "            30, 50256, 50256, 50256, 50256, 50256, 50256, 50256, 50256, 50256,\n",
       "         50256, 50256, 50256, 50256, 50256, 50256, 50256, 50256, 50256, 50256,\n",
       "         50256, 50256, 50256, 50256, 50256, 50256, 50256],\n",
       "        [ 7913,   838,    11,  4713,   399,  6148,   318,  4953,   319,   345,\n",
       "            13,  4599,  1755,    11,  5229,    13, 50256, 50256, 50256, 50256,\n",
       "         50256, 50256, 50256, 50256, 50256, 50256, 50256, 50256, 50256, 50256,\n",
       "         50256, 50256, 50256, 50256, 50256, 50256, 50256],\n",
       "        [  383,  2647,  1625, 40671,   290,   339, 12433,   262,  2456,    13,\n",
       "           383,  2456,   286, 46854,   338, 24225,  2402,   262,  8824, 24504,\n",
       "         15185,  1203, 14005,   329,  5806,  1272,    13, 50256, 50256, 50256,\n",
       "         50256, 50256, 50256, 50256, 50256, 50256, 50256],\n",
       "        [  383, 19222,  1657,  3214,   517, 49057,  2402,   262,  2443,   810,\n",
       "           319,  1194, 16022,  2540,   284, 16631,  2346,  6364,   290,   284,\n",
       "          4104, 10522,   663, 38118,  7894,    13, 50256, 50256, 50256, 50256,\n",
       "         50256, 50256, 50256, 50256, 50256, 50256, 50256],\n",
       "        [  257,  4692,    11, 45464, 34324,   374,  1328,   287,   465,  5848,\n",
       "            13, 50256, 50256, 50256, 50256, 50256, 50256, 50256, 50256, 50256,\n",
       "         50256, 50256, 50256, 50256, 50256, 50256, 50256, 50256, 50256, 50256,\n",
       "         50256, 50256, 50256, 50256, 50256, 50256, 50256]])"
      ]
     },
     "execution_count": 32,
     "metadata": {},
     "output_type": "execute_result"
    }
   ],
   "source": [
    "predicted_ids"
   ]
  },
  {
   "cell_type": "code",
   "execution_count": null,
   "id": "953fe55e-c3fa-46f7-a66d-b3874fb8e79d",
   "metadata": {},
   "outputs": [],
   "source": []
  },
  {
   "cell_type": "code",
   "execution_count": 84,
   "id": "2d1db85c-d5ba-4bab-9dac-3b1fd3f978ab",
   "metadata": {},
   "outputs": [
    {
     "data": {
      "text/plain": [
       "torch.Size([1, 80, 3000])"
      ]
     },
     "execution_count": 84,
     "metadata": {},
     "output_type": "execute_result"
    }
   ],
   "source": [
    "io = audio_inputs[-2, :, :].unsqueeze(0)\n",
    "io.shape"
   ]
  },
  {
   "cell_type": "code",
   "execution_count": 85,
   "id": "2ec2161f-2e64-41db-8f09-5d2a43b2d943",
   "metadata": {},
   "outputs": [
    {
     "data": {
      "text/plain": [
       "torch.Size([1, 448])"
      ]
     },
     "execution_count": 85,
     "metadata": {},
     "output_type": "execute_result"
    }
   ],
   "source": [
    "ia = attention_mask[-2, :].unsqueeze(0)\n",
    "ia.shape"
   ]
  },
  {
   "cell_type": "code",
   "execution_count": 103,
   "id": "4384fc3e-068c-4ea1-94db-ade8756c5ee0",
   "metadata": {},
   "outputs": [],
   "source": [
    "output = model.generate(\n",
    "    io, \n",
    "    attention_mask=ia, \n",
    "    return_segments=True, \n",
    "    return_timestamps=True,\n",
    "    no_speech_threshold=0.8,  # Adjust silence sensitivity\n",
    "    logprob_threshold=-1.0,   # Ensure log-probabilities are computed\n",
    "    temperature=(0.0, 0.2, 0.4, 0.6, 0.8, 1.0)  # Enable temperature fallback\n",
    ")"
   ]
  },
  {
   "cell_type": "code",
   "execution_count": 99,
   "id": "c3cf6192-0b1b-4ce7-9ccd-74a14b615d08",
   "metadata": {},
   "outputs": [
    {
     "name": "stdout",
     "output_type": "stream",
     "text": [
      "Start: 0.00s - End: 10.00s\n",
      "Text:  The dull light fell more faintly upon the page where on another equation began to unfold itself slowly and to spread abroad its widening tail.\n",
      "\n"
     ]
    }
   ],
   "source": [
    "# Extract segments\n",
    "segments = output[\"segments\"][0]  # First batch element\n",
    "\n",
    "# Convert tokens to readable text\n",
    "for segment in segments:\n",
    "    start, end = segment[\"start\"].item(), segment[\"end\"].item()\n",
    "    tokens = segment[\"tokens\"]\n",
    "    text = processor.tokenizer.decode(tokens, skip_special_tokens=True)\n",
    "\n",
    "    print(f\"Start: {start:.2f}s - End: {end:.2f}s\")\n",
    "    print(f\"Text: {text}\\n\")"
   ]
  },
  {
   "cell_type": "code",
   "execution_count": null,
   "id": "01d99f72-e4c4-4a08-9757-a27905938472",
   "metadata": {},
   "outputs": [],
   "source": []
  }
 ],
 "metadata": {
  "kernelspec": {
   "display_name": "Python 3 (ipykernel)",
   "language": "python",
   "name": "python3"
  },
  "language_info": {
   "codemirror_mode": {
    "name": "ipython",
    "version": 3
   },
   "file_extension": ".py",
   "mimetype": "text/x-python",
   "name": "python",
   "nbconvert_exporter": "python",
   "pygments_lexer": "ipython3",
   "version": "3.12.8"
  }
 },
 "nbformat": 4,
 "nbformat_minor": 5
}
