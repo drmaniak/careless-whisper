{
 "cells": [
  {
   "cell_type": "markdown",
   "id": "dd63406b-ed1f-424e-8694-421efeb95ab3",
   "metadata": {},
   "source": [
    "# Imports"
   ]
  },
  {
   "cell_type": "code",
   "execution_count": 1,
   "id": "e657eea6-b80c-41a1-b710-39bc9519fd46",
   "metadata": {},
   "outputs": [],
   "source": [
    "from pathlib import Path"
   ]
  },
  {
   "cell_type": "code",
   "execution_count": 2,
   "id": "c033218b-c9a2-47c3-8939-a59596fe8018",
   "metadata": {},
   "outputs": [],
   "source": [
    "import librosa"
   ]
  },
  {
   "cell_type": "code",
   "execution_count": 30,
   "id": "6e2d7316-430e-4d37-9ee1-69bb937100de",
   "metadata": {},
   "outputs": [],
   "source": [
    "import torch\n",
    "import torch.nn as nn"
   ]
  },
  {
   "cell_type": "code",
   "execution_count": 3,
   "id": "e944e580-baee-4440-a721-514a71b0619b",
   "metadata": {},
   "outputs": [],
   "source": [
    "from torchaudio.datasets import librispeech"
   ]
  },
  {
   "cell_type": "code",
   "execution_count": 39,
   "id": "ab9dfd06-ca08-44e4-bb17-39c613ee14be",
   "metadata": {},
   "outputs": [],
   "source": [
    "from transformers import WhisperFeatureExtractor, WhisperTokenizer, WhisperProcessor, WhisperForConditionalGeneration"
   ]
  },
  {
   "cell_type": "markdown",
   "id": "97e83ffd-039f-42db-8138-0167020afa75",
   "metadata": {},
   "source": [
    "# Data"
   ]
  },
  {
   "cell_type": "code",
   "execution_count": 6,
   "id": "f8adb16c-bbfe-4474-811f-fd6666885299",
   "metadata": {},
   "outputs": [
    {
     "data": {
      "text/plain": [
       "True"
      ]
     },
     "execution_count": 6,
     "metadata": {},
     "output_type": "execute_result"
    }
   ],
   "source": [
    "audio_path = Path(\"../data/hello.wav\")\n",
    "audio_path.exists() and audio_path.is_file()"
   ]
  },
  {
   "cell_type": "code",
   "execution_count": 20,
   "id": "0d86ae86-99fb-4656-abe7-7124a6f46cbc",
   "metadata": {},
   "outputs": [],
   "source": [
    "waveform, sr = librosa.load(audio_path, sr=16000)"
   ]
  },
  {
   "cell_type": "markdown",
   "id": "0c504512-b01b-4602-9f90-ac8b56ace92a",
   "metadata": {},
   "source": [
    "# Load the model, begin training on audio file (to overfit)"
   ]
  },
  {
   "cell_type": "code",
   "execution_count": 43,
   "id": "543eedc4-864f-4014-b5ad-22af364aad41",
   "metadata": {},
   "outputs": [],
   "source": [
    "processor = WhisperProcessor.from_pretrained(\"openai/whisper-tiny.en\")\n",
    "model = WhisperForConditionalGeneration.from_pretrained(\"openai/whisper-tiny.en\")"
   ]
  },
  {
   "cell_type": "code",
   "execution_count": 44,
   "id": "6bd1ba5f-336f-4805-a3e8-75c29e3f4a38",
   "metadata": {},
   "outputs": [
    {
     "data": {
      "text/plain": [
       "WhisperForConditionalGeneration(\n",
       "  (model): WhisperModel(\n",
       "    (encoder): WhisperEncoder(\n",
       "      (conv1): Conv1d(80, 384, kernel_size=(3,), stride=(1,), padding=(1,))\n",
       "      (conv2): Conv1d(384, 384, kernel_size=(3,), stride=(2,), padding=(1,))\n",
       "      (embed_positions): Embedding(1500, 384)\n",
       "      (layers): ModuleList(\n",
       "        (0-3): 4 x WhisperEncoderLayer(\n",
       "          (self_attn): WhisperSdpaAttention(\n",
       "            (k_proj): Linear(in_features=384, out_features=384, bias=False)\n",
       "            (v_proj): Linear(in_features=384, out_features=384, bias=True)\n",
       "            (q_proj): Linear(in_features=384, out_features=384, bias=True)\n",
       "            (out_proj): Linear(in_features=384, out_features=384, bias=True)\n",
       "          )\n",
       "          (self_attn_layer_norm): LayerNorm((384,), eps=1e-05, elementwise_affine=True)\n",
       "          (activation_fn): GELUActivation()\n",
       "          (fc1): Linear(in_features=384, out_features=1536, bias=True)\n",
       "          (fc2): Linear(in_features=1536, out_features=384, bias=True)\n",
       "          (final_layer_norm): LayerNorm((384,), eps=1e-05, elementwise_affine=True)\n",
       "        )\n",
       "      )\n",
       "      (layer_norm): LayerNorm((384,), eps=1e-05, elementwise_affine=True)\n",
       "    )\n",
       "    (decoder): WhisperDecoder(\n",
       "      (embed_tokens): Embedding(51864, 384, padding_idx=50256)\n",
       "      (embed_positions): WhisperPositionalEmbedding(448, 384)\n",
       "      (layers): ModuleList(\n",
       "        (0-3): 4 x WhisperDecoderLayer(\n",
       "          (self_attn): WhisperSdpaAttention(\n",
       "            (k_proj): Linear(in_features=384, out_features=384, bias=False)\n",
       "            (v_proj): Linear(in_features=384, out_features=384, bias=True)\n",
       "            (q_proj): Linear(in_features=384, out_features=384, bias=True)\n",
       "            (out_proj): Linear(in_features=384, out_features=384, bias=True)\n",
       "          )\n",
       "          (activation_fn): GELUActivation()\n",
       "          (self_attn_layer_norm): LayerNorm((384,), eps=1e-05, elementwise_affine=True)\n",
       "          (encoder_attn): WhisperSdpaAttention(\n",
       "            (k_proj): Linear(in_features=384, out_features=384, bias=False)\n",
       "            (v_proj): Linear(in_features=384, out_features=384, bias=True)\n",
       "            (q_proj): Linear(in_features=384, out_features=384, bias=True)\n",
       "            (out_proj): Linear(in_features=384, out_features=384, bias=True)\n",
       "          )\n",
       "          (encoder_attn_layer_norm): LayerNorm((384,), eps=1e-05, elementwise_affine=True)\n",
       "          (fc1): Linear(in_features=384, out_features=1536, bias=True)\n",
       "          (fc2): Linear(in_features=1536, out_features=384, bias=True)\n",
       "          (final_layer_norm): LayerNorm((384,), eps=1e-05, elementwise_affine=True)\n",
       "        )\n",
       "      )\n",
       "      (layer_norm): LayerNorm((384,), eps=1e-05, elementwise_affine=True)\n",
       "    )\n",
       "  )\n",
       "  (proj_out): Linear(in_features=384, out_features=51864, bias=False)\n",
       ")"
      ]
     },
     "execution_count": 44,
     "metadata": {},
     "output_type": "execute_result"
    }
   ],
   "source": [
    "model.train()"
   ]
  },
  {
   "cell_type": "code",
   "execution_count": 45,
   "id": "6d4ef804-1346-4fd9-a5d7-c0eac74a3650",
   "metadata": {},
   "outputs": [
    {
     "data": {
      "text/plain": [
       "tensor([[[-0.1529, -0.1795, -0.2277,  ..., -0.9609, -0.9609, -0.9609],\n",
       "         [-0.3502,  0.0674,  0.1487,  ..., -0.9609, -0.9609, -0.9609],\n",
       "         [-0.0949,  0.0898,  0.1487,  ..., -0.9609, -0.9609, -0.9609],\n",
       "         ...,\n",
       "         [-0.7625, -0.8396, -0.7656,  ..., -0.9609, -0.9609, -0.9609],\n",
       "         [-0.9039, -0.8158, -0.7739,  ..., -0.9609, -0.9609, -0.9609],\n",
       "         [-0.8149, -0.9609, -0.9609,  ..., -0.9609, -0.9609, -0.9609]]])"
      ]
     },
     "execution_count": 45,
     "metadata": {},
     "output_type": "execute_result"
    }
   ],
   "source": [
    "input_features = processor(waveform, return_tensors=\"pt\", sampling_rate=sr).input_features\n",
    "input_features"
   ]
  },
  {
   "cell_type": "code",
   "execution_count": 46,
   "id": "a7f8f7c9-a81d-4570-ae28-282564c2bc97",
   "metadata": {},
   "outputs": [
    {
     "data": {
      "text/plain": [
       "tensor([[50257, 50362, 15496,    11,   616,  1438,   318,   314,  4496,   461,\n",
       "            13, 50256]])"
      ]
     },
     "execution_count": 46,
     "metadata": {},
     "output_type": "execute_result"
    }
   ],
   "source": [
    "ground_truth_text = \"Hello, my name is Izaak.\"\n",
    "labels = processor.tokenizer(ground_truth_text, return_tensors=\"pt\").input_ids\n",
    "labels"
   ]
  },
  {
   "cell_type": "code",
   "execution_count": 47,
   "id": "de264601-dbdc-4304-a4b5-d9beb4c9ee47",
   "metadata": {},
   "outputs": [],
   "source": [
    "optimizer = torch.optim.AdamW(model.parameters(), lr=1e-5)"
   ]
  },
  {
   "cell_type": "code",
   "execution_count": 48,
   "id": "574feecc-1039-4408-84e7-adaaec36563f",
   "metadata": {},
   "outputs": [],
   "source": [
    "num_steps = 15"
   ]
  },
  {
   "cell_type": "code",
   "execution_count": 50,
   "id": "63f608fc-b2fe-4d65-a8c5-190cc238ecf6",
   "metadata": {},
   "outputs": [
    {
     "name": "stdout",
     "output_type": "stream",
     "text": [
      "Step 1/8, Loss: 0.4363\n",
      "Step 2/8, Loss: 0.3064\n",
      "Step 3/8, Loss: 0.1927\n",
      "Step 4/8, Loss: 0.1101\n",
      "Step 5/8, Loss: 0.0752\n",
      "Step 6/8, Loss: 0.0598\n",
      "Step 7/8, Loss: 0.0422\n",
      "Step 8/8, Loss: 0.0270\n"
     ]
    }
   ],
   "source": [
    "for step in range(num_steps):\n",
    "    optimizer.zero_grad()\n",
    "\n",
    "    outputs = model(input_features=input_features, labels=labels)\n",
    "\n",
    "    loss = outputs.loss\n",
    "\n",
    "    loss.backward()\n",
    "    optimizer.step()\n",
    "\n",
    "    print(f\"Step {step+1}/{num_steps}, Loss: {loss.item():.4f}\")"
   ]
  },
  {
   "cell_type": "markdown",
   "id": "63a784be-520b-4205-8a95-2297c1eab087",
   "metadata": {},
   "source": [
    "# Eval model outputs"
   ]
  },
  {
   "cell_type": "code",
   "execution_count": 53,
   "id": "a9778699-1bf7-4c30-b0fb-3a036c4bfef9",
   "metadata": {},
   "outputs": [],
   "source": [
    "model.eval();"
   ]
  },
  {
   "cell_type": "code",
   "execution_count": 61,
   "id": "279c41db-6f4d-4dad-bf1f-17e92d8ae28d",
   "metadata": {},
   "outputs": [
    {
     "name": "stderr",
     "output_type": "stream",
     "text": [
      "The attention mask is not set and cannot be inferred from input because pad token is same as eos token. As a consequence, you may observe unexpected behavior. Please pass your input's `attention_mask` to obtain reliable results.\n"
     ]
    }
   ],
   "source": [
    "predicted_ids = model.generate(input_features)"
   ]
  },
  {
   "cell_type": "code",
   "execution_count": 66,
   "id": "fbf6cce7-ba1d-4841-ab02-e97837c28276",
   "metadata": {},
   "outputs": [
    {
     "data": {
      "text/plain": [
       "['Hello, my name is Izaak.']"
      ]
     },
     "execution_count": 66,
     "metadata": {},
     "output_type": "execute_result"
    }
   ],
   "source": [
    "output = processor.batch_decode(predicted_ids, skip_special_tokens=True)\n",
    "output"
   ]
  },
  {
   "cell_type": "code",
   "execution_count": null,
   "id": "e5e97782-e895-45b1-92fb-af6686bf9e48",
   "metadata": {},
   "outputs": [],
   "source": []
  }
 ],
 "metadata": {
  "kernelspec": {
   "display_name": "Python 3 (ipykernel)",
   "language": "python",
   "name": "python3"
  },
  "language_info": {
   "codemirror_mode": {
    "name": "ipython",
    "version": 3
   },
   "file_extension": ".py",
   "mimetype": "text/x-python",
   "name": "python",
   "nbconvert_exporter": "python",
   "pygments_lexer": "ipython3",
   "version": "3.12.8"
  }
 },
 "nbformat": 4,
 "nbformat_minor": 5
}
